{
  "nbformat": 4,
  "nbformat_minor": 0,
  "metadata": {
    "colab": {
      "provenance": [],
      "authorship_tag": "ABX9TyPq2dORP7ZRFEGuudOe5bU5",
      "include_colab_link": true
    },
    "kernelspec": {
      "name": "python3",
      "display_name": "Python 3"
    },
    "language_info": {
      "name": "python"
    }
  },
  "cells": [
    {
      "cell_type": "markdown",
      "metadata": {
        "id": "view-in-github",
        "colab_type": "text"
      },
      "source": [
        "<a href=\"https://colab.research.google.com/github/pranjalparmar23/expt-7/blob/main/Experiment_7.ipynb\" target=\"_parent\"><img src=\"https://colab.research.google.com/assets/colab-badge.svg\" alt=\"Open In Colab\"/></a>"
      ]
    },
    {
      "cell_type": "markdown",
      "source": [
        "Union"
      ],
      "metadata": {
        "id": "fiuxRg24a1KE"
      }
    },
    {
      "cell_type": "code",
      "source": [
        "A = {\"apple\": 0.6, \"banana\": 0.8, \"cherry\": 0.5, \"date\": 0.4, \"grape\": 0.9}\n",
        "B = {\"apple\": 0.3, \"banana\": 0.7, \"cherry\": 0.6, \"date\": 0.5, \"grape\": 0.4}\n",
        "\n",
        "Y_union = {}\n",
        "\n",
        "print('The First Fuzzy Set is :', A)\n",
        "print('The Second Fuzzy Set is :', B)\n",
        "\n",
        "for key in set(A) | set(B):\n",
        "    A_value = A.get(key, 0)\n",
        "    B_value = B.get(key, 0)\n",
        "    Y_union[key] = max(A_value, B_value)\n",
        "\n",
        "print('Fuzzy Set Union is :', Y_union)"
      ],
      "metadata": {
        "colab": {
          "base_uri": "https://localhost:8080/"
        },
        "id": "uIw22l36eSwu",
        "outputId": "88201033-3605-4109-d9da-71fcf63e4007"
      },
      "execution_count": null,
      "outputs": [
        {
          "output_type": "stream",
          "name": "stdout",
          "text": [
            "The First Fuzzy Set is : {'apple': 0.6, 'banana': 0.8, 'cherry': 0.5, 'date': 0.4, 'grape': 0.9}\n",
            "The Second Fuzzy Set is : {'apple': 0.3, 'banana': 0.7, 'cherry': 0.6, 'date': 0.5, 'grape': 0.4}\n",
            "Fuzzy Set Union is : {'date': 0.5, 'banana': 0.8, 'grape': 0.9, 'cherry': 0.6, 'apple': 0.6}\n"
          ]
        }
      ]
    },
    {
      "cell_type": "markdown",
      "source": [
        "Interesection"
      ],
      "metadata": {
        "id": "52s85z49a2sm"
      }
    },
    {
      "cell_type": "code",
      "source": [
        "A = {\"apple\": 0.6, \"banana\": 0.8, \"cherry\": 0.5, \"date\": 0.4, \"grape\": 0.9}\n",
        "B = {\"apple\": 0.3, \"banana\": 0.7, \"cherry\": 0.6, \"date\": 0.5, \"grape\": 0.4}\n",
        "\n",
        "Y_intersection = {}\n",
        "\n",
        "print('The First Fuzzy Set is :', A)\n",
        "print('The Second Fuzzy Set is :', B)\n",
        "\n",
        "for key in set(A) | set(B):\n",
        "    A_value = A.get(key, 0)\n",
        "    B_value = B.get(key, 0)\n",
        "    Y_intersection[key] = min(A_value, B_value)\n",
        "print('Fuzzy Set Intersection is :', Y_intersection)"
      ],
      "metadata": {
        "colab": {
          "base_uri": "https://localhost:8080/"
        },
        "id": "JTLgrnK_fAae",
        "outputId": "ed0a916c-2495-4331-d610-0c4c0bda59a1"
      },
      "execution_count": null,
      "outputs": [
        {
          "output_type": "stream",
          "name": "stdout",
          "text": [
            "The First Fuzzy Set is : {'apple': 0.6, 'banana': 0.8, 'cherry': 0.5, 'date': 0.4, 'grape': 0.9}\n",
            "The Second Fuzzy Set is : {'apple': 0.3, 'banana': 0.7, 'cherry': 0.6, 'date': 0.5, 'grape': 0.4}\n",
            "Fuzzy Set Intersection is : {'date': 0.4, 'banana': 0.7, 'grape': 0.4, 'cherry': 0.5, 'apple': 0.3}\n"
          ]
        }
      ]
    },
    {
      "cell_type": "markdown",
      "source": [
        "Complement"
      ],
      "metadata": {
        "id": "NUe9hJ07a4bM"
      }
    },
    {
      "cell_type": "code",
      "source": [
        "A = {\"apple\": 0.6, \"banana\": 0.8, \"cherry\": 0.5, \"date\": 0.4, \"grape\": 0.9}\n",
        "B = {\"apple\": 0.3, \"banana\": 0.7, \"cherry\": 0.6, \"date\": 0.5, \"grape\": 0.4}\n",
        "\n",
        "Y_complement_A = {}\n",
        "\n",
        "print('The First Fuzzy Set is :', A)\n",
        "print('The Second Fuzzy Set is :', B)\n",
        "\n",
        "for key in A:\n",
        "    Y_complement_A[key] = 1 - A[key]\n",
        "\n",
        "print('Fuzzy Set Complement of A is :', Y_complement_A)"
      ],
      "metadata": {
        "colab": {
          "base_uri": "https://localhost:8080/"
        },
        "id": "F3S-eYGSfRxJ",
        "outputId": "3b63f579-ecfb-4118-dd1f-13b9ca905298"
      },
      "execution_count": null,
      "outputs": [
        {
          "output_type": "stream",
          "name": "stdout",
          "text": [
            "The First Fuzzy Set is : {'apple': 0.6, 'banana': 0.8, 'cherry': 0.5, 'date': 0.4, 'grape': 0.9}\n",
            "The Second Fuzzy Set is : {'apple': 0.3, 'banana': 0.7, 'cherry': 0.6, 'date': 0.5, 'grape': 0.4}\n",
            "Fuzzy Set Complement of A is : {'apple': 0.4, 'banana': 0.19999999999999996, 'cherry': 0.5, 'date': 0.6, 'grape': 0.09999999999999998}\n"
          ]
        }
      ]
    },
    {
      "cell_type": "markdown",
      "source": [
        "Difference"
      ],
      "metadata": {
        "id": "3XI2brxDc5fD"
      }
    },
    {
      "cell_type": "code",
      "source": [
        "A = {\"apple\": 0.6, \"banana\": 0.8, \"cherry\": 0.5, \"date\": 0.4, \"grape\": 0.9}\n",
        "B = {\"apple\": 0.3, \"banana\": 0.7, \"cherry\": 0.6, \"date\": 0.5, \"grape\": 0.4}\n",
        "\n",
        "Y_difference = {}\n",
        "\n",
        "print('The First Fuzzy Set is :', A)\n",
        "print('The Second Fuzzy Set is :', B)\n",
        "\n",
        "for key in set(A) | set(B):\n",
        "    A_value = A.get(key, 0)\n",
        "    B_value = B.get(key, 0)\n",
        "    Y_difference[key] = min(A_value, 1 - B_value)\n",
        "\n",
        "print('Fuzzy Set Difference (A - B) is :', Y_difference)"
      ],
      "metadata": {
        "colab": {
          "base_uri": "https://localhost:8080/"
        },
        "id": "WR5eXrPmfeim",
        "outputId": "455c21af-2f64-4ebd-80bd-35241b63ed4d"
      },
      "execution_count": 2,
      "outputs": [
        {
          "output_type": "stream",
          "name": "stdout",
          "text": [
            "The First Fuzzy Set is : {'apple': 0.6, 'banana': 0.8, 'cherry': 0.5, 'date': 0.4, 'grape': 0.9}\n",
            "The Second Fuzzy Set is : {'apple': 0.3, 'banana': 0.7, 'cherry': 0.6, 'date': 0.5, 'grape': 0.4}\n",
            "Fuzzy Set Difference (A - B) is : {'apple': 0.6, 'date': 0.4, 'grape': 0.6, 'cherry': 0.4, 'banana': 0.30000000000000004}\n"
          ]
        }
      ]
    },
    {
      "cell_type": "markdown",
      "source": [
        "Algebric Sum"
      ],
      "metadata": {
        "id": "xZo1RtcDa5aI"
      }
    },
    {
      "cell_type": "code",
      "source": [
        "A = {\"apple\": 0.6, \"banana\": 0.8, \"cherry\": 0.5, \"date\": 0.4, \"grape\": 0.9}\n",
        "B = {\"apple\": 0.3, \"banana\": 0.7, \"cherry\": 0.6, \"date\": 0.5, \"grape\": 0.4}\n",
        "\n",
        "Y_algebraic_sum = {}\n",
        "\n",
        "print('The First Fuzzy Set is :', A)\n",
        "print('The Second Fuzzy Set is :', B)\n",
        "\n",
        "for key in set(A) | set(B):\n",
        "    A_value = A.get(key, 0)\n",
        "    B_value = B.get(key, 0)\n",
        "    Y_algebraic_sum[key] = A_value + B_value - A_value * B_value\n",
        "\n",
        "print('Fuzzy Algebraic Sum is :', Y_algebraic_sum)"
      ],
      "metadata": {
        "colab": {
          "base_uri": "https://localhost:8080/"
        },
        "id": "SydUigMifri7",
        "outputId": "7d084620-a5c0-456b-9b20-50c6a9d19e0f"
      },
      "execution_count": 1,
      "outputs": [
        {
          "output_type": "stream",
          "name": "stdout",
          "text": [
            "The First Fuzzy Set is : {'apple': 0.6, 'banana': 0.8, 'cherry': 0.5, 'date': 0.4, 'grape': 0.9}\n",
            "The Second Fuzzy Set is : {'apple': 0.3, 'banana': 0.7, 'cherry': 0.6, 'date': 0.5, 'grape': 0.4}\n",
            "Fuzzy Algebraic Sum is : {'apple': 0.72, 'date': 0.7, 'grape': 0.94, 'cherry': 0.8, 'banana': 0.9400000000000001}\n"
          ]
        }
      ]
    },
    {
      "cell_type": "markdown",
      "source": [
        "Algebric Product"
      ],
      "metadata": {
        "id": "QViti2Z9a6yY"
      }
    },
    {
      "cell_type": "code",
      "source": [
        "A = {\"apple\": 0.6, \"banana\": 0.8, \"cherry\": 0.5, \"date\": 0.4, \"grape\": 0.9}\n",
        "B = {\"apple\": 0.3, \"banana\": 0.7, \"cherry\": 0.6, \"date\": 0.5, \"grape\": 0.4}\n",
        "\n",
        "Y_algebraic_product = {}\n",
        "\n",
        "print('The First Fuzzy Set is :', A)\n",
        "print('The Second Fuzzy Set is :', B)\n",
        "\n",
        "for key in set(A) | set(B):\n",
        "    A_value = A.get(key, 0)\n",
        "    B_value = B.get(key, 0)\n",
        "    Y_algebraic_product[key] = A_value * B_value\n",
        "\n",
        "print('Fuzzy Algebraic Product is :', Y_algebraic_product)"
      ],
      "metadata": {
        "colab": {
          "base_uri": "https://localhost:8080/"
        },
        "id": "peYpxPySf8Xx",
        "outputId": "9cf4ac84-c19f-4b07-b602-0822ad1dbd8e"
      },
      "execution_count": null,
      "outputs": [
        {
          "output_type": "stream",
          "name": "stdout",
          "text": [
            "The First Fuzzy Set is : {'apple': 0.6, 'banana': 0.8, 'cherry': 0.5, 'date': 0.4, 'grape': 0.9}\n",
            "The Second Fuzzy Set is : {'apple': 0.3, 'banana': 0.7, 'cherry': 0.6, 'date': 0.5, 'grape': 0.4}\n",
            "Fuzzy Algebraic Product is : {'date': 0.2, 'banana': 0.5599999999999999, 'grape': 0.36000000000000004, 'cherry': 0.3, 'apple': 0.18}\n"
          ]
        }
      ]
    },
    {
      "cell_type": "markdown",
      "source": [
        "Bounded Sum"
      ],
      "metadata": {
        "id": "P_5UhH5vcYPi"
      }
    },
    {
      "cell_type": "code",
      "source": [
        "A = {\"apple\": 0.6, \"banana\": 0.8, \"cherry\": 0.5, \"date\": 0.4, \"grape\": 0.9}\n",
        "B = {\"apple\": 0.3, \"banana\": 0.7, \"cherry\": 0.6, \"date\": 0.5, \"grape\": 0.4}\n",
        "\n",
        "Y_bounded_sum = {}\n",
        "\n",
        "print('The First Fuzzy Set is :', A)\n",
        "print('The Second Fuzzy Set is :', B)\n",
        "\n",
        "for key in set(A) | set(B):\n",
        "    A_value = A.get(key, 0)\n",
        "    B_value = B.get(key, 0)\n",
        "    Y_bounded_sum[key] = min(1, A_value + B_value)\n",
        "\n",
        "print('Fuzzy Bounded Sum is :', Y_bounded_sum)"
      ],
      "metadata": {
        "colab": {
          "base_uri": "https://localhost:8080/"
        },
        "id": "VMhpznu6gOoa",
        "outputId": "5bfa08fb-5a7b-48d5-f921-88ca18e1dfa7"
      },
      "execution_count": null,
      "outputs": [
        {
          "output_type": "stream",
          "name": "stdout",
          "text": [
            "The First Fuzzy Set is : {'apple': 0.6, 'banana': 0.8, 'cherry': 0.5, 'date': 0.4, 'grape': 0.9}\n",
            "The Second Fuzzy Set is : {'apple': 0.3, 'banana': 0.7, 'cherry': 0.6, 'date': 0.5, 'grape': 0.4}\n",
            "Fuzzy Bounded Sum is : {'date': 0.9, 'banana': 1, 'grape': 1, 'cherry': 1, 'apple': 0.8999999999999999}\n"
          ]
        }
      ]
    },
    {
      "cell_type": "markdown",
      "source": [
        "Bounded Difference"
      ],
      "metadata": {
        "id": "Y6gPcmxMccnJ"
      }
    },
    {
      "cell_type": "code",
      "source": [
        "A = {\"apple\": 0.6, \"banana\": 0.8, \"cherry\": 0.5, \"date\": 0.4, \"grape\": 0.9}\n",
        "B = {\"apple\": 0.3, \"banana\": 0.7, \"cherry\": 0.6, \"date\": 0.5, \"grape\": 0.4}\n",
        "\n",
        "Y_bounded_difference = {}\n",
        "\n",
        "print('The First Fuzzy Set is :', A)\n",
        "print('The Second Fuzzy Set is :', B)\n",
        "\n",
        "for key in set(A) | set(B):\n",
        "    A_value = A.get(key, 0)\n",
        "    B_value = B.get(key, 0)\n",
        "    Y_bounded_difference[key] = max(0, A_value - B_value)  # Use max(0, A - B)\n",
        "\n",
        "print('Fuzzy Bounded Difference is :', Y_bounded_difference)"
      ],
      "metadata": {
        "colab": {
          "base_uri": "https://localhost:8080/"
        },
        "id": "rLK-MMbogWj_",
        "outputId": "f4484564-8bde-4139-9154-3369626d5fee"
      },
      "execution_count": null,
      "outputs": [
        {
          "output_type": "stream",
          "name": "stdout",
          "text": [
            "The First Fuzzy Set is : {'apple': 0.6, 'banana': 0.8, 'cherry': 0.5, 'date': 0.4, 'grape': 0.9}\n",
            "The Second Fuzzy Set is : {'apple': 0.3, 'banana': 0.7, 'cherry': 0.6, 'date': 0.5, 'grape': 0.4}\n",
            "Fuzzy Bounded Difference is : {'date': 0, 'banana': 0.10000000000000009, 'grape': 0.5, 'cherry': 0, 'apple': 0.3}\n"
          ]
        }
      ]
    }
  ]
}